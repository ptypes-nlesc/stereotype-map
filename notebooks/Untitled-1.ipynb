{
 "cells": [
  {
   "cell_type": "markdown",
   "metadata": {},
   "source": [
    "## What stereotypes are associated with each video?\n",
    "\n",
    "1. Prepare stereotypes.json and video-tags.json\n",
    "2. Generate embeddings for stereotypes and video tags\n",
    "3. Calculate similarity between video tags and stereotypes\n",
    "4. Attribute stereotypes to videos\n",
    "5. Visualise - plot heatmap, create network graph\n",
    "\n",
    "\n"
   ]
  },
  {
   "cell_type": "code",
   "execution_count": null,
   "metadata": {},
   "outputs": [],
   "source": [
    "import pandas as pd\n",
    "import pickle\n",
    "\n",
    "import src.models.embeddings as embeddings\n",
    "import src.utils.helpers as helpers"
   ]
  },
  {
   "cell_type": "code",
   "execution_count": null,
   "metadata": {},
   "outputs": [],
   "source": [
    "dat = pd.read_csv(\"data/dat.csv\")\n",
    "\n"
   ]
  },
  {
   "cell_type": "code",
   "execution_count": null,
   "metadata": {},
   "outputs": [],
   "source": [
    "# extract video tags to create video-tags.json\n"
   ]
  },
  {
   "cell_type": "code",
   "execution_count": null,
   "metadata": {},
   "outputs": [],
   "source": [
    "STEREOTYPES_JSON_PATH = \"stereotypes.json\"\n",
    "TAGS_JSON_PATH = \"video-tags.json\"\n",
    "dat = dat.head(10)\n",
    "\n",
    "dat[\"popular_tags_formatted\"] = dat[\"popular_tags\"].apply(clean.extract_tags)\n",
    "# prepare tags\n",
    "helpers.df_to_json(\n",
    "    df=dat, key_col_index=0, value_col_index=-1, filename=\"video-tags.json\"\n",
    ")\n",
    "\n",
    "embeddings.download_nltk_data()\n",
    "# load stereotypes\n",
    "stereotypes = embeddings.load_and_preprocess_data(STEREOTYPES_JSON_PATH)\n",
    "tags = embeddings.load_and_preprocess_data(TAGS_JSON_PATH)\n",
    "\n",
    "stereotypes_emb = embeddings.generate_embeddings(stereotypes)\n",
    "# TODO run for all and save results, long processing time\n",
    "tags_emb = embeddings.generate_embeddings(tags)\n",
    "\n",
    "# save tag embeddings\n",
    "with open(\"tags_emb.pkl\", \"wb\") as file:\n",
    "    pickle.dump(tags_emb, file)\n",
    "\n",
    "# # Load tags_emb from a file\n",
    "# with open(\"tags_emb.pkl\", \"rb\") as file:\n",
    "#     tags_emb = pickle.load(file)\n",
    "\n",
    "sim_df = embeddings.calculate_similarity(tags_emb, stereotypes_emb)\n",
    "\n",
    "# TODO visualise sim df\n",
    "# extract top 3 stereotypes for each video\n",
    "# create df with extra column 'stereotype1', 'stereotype2', etc"
   ]
  }
 ],
 "metadata": {
  "kernelspec": {
   "display_name": "venv",
   "language": "python",
   "name": "python3"
  },
  "language_info": {
   "name": "python",
   "version": "3.11.0"
  }
 },
 "nbformat": 4,
 "nbformat_minor": 2
}
