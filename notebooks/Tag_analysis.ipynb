{
 "cells": [
  {
   "cell_type": "code",
   "execution_count": null,
   "id": "88d7f9e7",
   "metadata": {},
   "outputs": [],
   "source": [
    "### 1. Tag analysis\n",
    "##### Frequency and correlation"
   ]
  },
  {
   "cell_type": "code",
   "execution_count": null,
   "id": "bc4b8984",
   "metadata": {},
   "outputs": [],
   "source": [
    "# TODO: do not confuse tags with categories\n",
    "# Create 'tags' column from categories\n",
    "df[\"tags\"] = df[\"categories\"].apply(clean.extract_tags)\n",
    "df = df.drop(columns=[\"categories\"])\n",
    "# Remove a specific tag from the \"tags\" column\n",
    "df[\"tags\"] = df[\"tags\"].apply(clean.remove_tag, tag_to_remove=\"HD Porn\")\n",
    "# confirm it is a list\n",
    "# df.tags.apply(lambda tag_list: isinstance(tag_list, list))"
   ]
  },
  {
   "cell_type": "code",
   "execution_count": null,
   "id": "bff6cb8e",
   "metadata": {},
   "outputs": [],
   "source": [
    "# flatten out tags\n",
    "df_flat_tag = clean.flatten_tags(df.tags)\n",
    "# number of unique hashtags\n",
    "df_flat_tag[\"tag\"].unique().size"
   ]
  },
  {
   "cell_type": "code",
   "execution_count": null,
   "id": "c65315f2",
   "metadata": {},
   "outputs": [],
   "source": [
    "# count the number of each hashtag\n",
    "popular_tags_set = clean.get_popular_tags(df_flat_tag)\n",
    "\n",
    "# make a new column with only the popular tags\n",
    "df[\"popular_tags\"] = df.tags.apply(\n",
    "    lambda tag_list: clean.filter_popular_tags(tag_list, popular_tags_set)\n",
    ")\n",
    "# replace url with identifier\n",
    "df[\"url\"] = df.url.apply(lambda x: helpers.extract_and_create_unique_id(x, length=11))\n",
    "\n",
    "# drop rows without popular tag\n",
    "df_popular_tags = df.loc[df.popular_tags.apply(lambda tag_list: tag_list != [])]\n",
    "df_tags_vector = df_popular_tags.loc[:, [\"popular_tags\"]]\n",
    "\n",
    "for tag in popular_tags_set:\n",
    "    # make columns to encode presence of hashtags\n",
    "    df_tags_vector[\"{}\".format(tag)] = df_tags_vector.popular_tags.apply(\n",
    "        lambda tag_list: int(tag in tag_list)\n",
    "    )\n",
    "# create a matrix of tags\n",
    "tag_matrix = df_tags_vector.drop(\"popular_tags\", axis=1)"
   ]
  },
  {
   "cell_type": "code",
   "execution_count": null,
   "id": "2dc3a5f6",
   "metadata": {},
   "outputs": [],
   "source": [
    "tag_counts = tag_matrix.sum().sort_values(ascending=False)\n",
    "tag_counts.plot(kind=\"bar\", figsize=(12, 6))\n",
    "plt.title(\"Tag Frequencies\")\n",
    "plt.xlabel(\"Tags\")\n",
    "plt.ylabel(\"Count\")\n",
    "plt.xticks(rotation=90)\n",
    "output_plot_path = \"plots/tag_frequency_distribution.png\"\n",
    "plt.savefig(output_plot_path, bbox_inches=\"tight\")\n",
    "plt.show()"
   ]
  },
  {
   "cell_type": "code",
   "execution_count": null,
   "id": "40450c1a",
   "metadata": {},
   "outputs": [],
   "source": [
    "# correlation matrix\n",
    "correlations = tag_matrix.corr()\n",
    "\n",
    "sns.heatmap(\n",
    "    correlations,\n",
    "    cmap=\"RdBu\",\n",
    "    vmin=-0.5,\n",
    "    vmax=0.5,\n",
    "    square=True,\n",
    "    cbar_kws={\"label\": \"correlation\"},\n",
    ")\n",
    "plt.savefig(\"plots/tag_correlation.png\")"
   ]
  },
  {
   "cell_type": "code",
   "execution_count": null,
   "id": "a6ef2845",
   "metadata": {},
   "outputs": [],
   "source": [
    "# Extract year from date\n",
    "df[\"year\"] = pd.to_datetime(df[\"date\"]).dt.year\n",
    "\n",
    "# Explode the popular_tags list so each tag gets its own row\n",
    "df_exploded = df.explode(\"popular_tags\")\n",
    "\n",
    "# Group by year and tag, count occurrences\n",
    "tag_counts = df_exploded.groupby([\"year\", \"popular_tags\"]).size().unstack(fill_value=0)\n",
    "\n",
    "# Normalize counts to get frequencies\n",
    "tag_frequencies = tag_counts.div(tag_counts.sum(axis=1), axis=0)\n"
   ]
  },
  {
   "cell_type": "code",
   "execution_count": null,
   "id": "af028e4b",
   "metadata": {},
   "outputs": [],
   "source": [
    "tag_frequencies.head(5)"
   ]
  },
  {
   "cell_type": "code",
   "execution_count": null,
   "id": "edb4f483",
   "metadata": {},
   "outputs": [],
   "source": [
    "top_tags = tag_frequencies.sum().nlargest(16).index  # Choose top 16 tags\n",
    "fig, axes = plt.subplots(4, 4, figsize=(20, 20), sharex=True, sharey=True)\n",
    "axes = axes.flatten()\n",
    "\n",
    "# Set a color palette\n",
    "colors = sns.color_palette(\"husl\", len(top_tags))\n",
    "\n",
    "for i, tag in enumerate(top_tags):\n",
    "    axes[i].plot(\n",
    "        tag_frequencies.index,\n",
    "        tag_frequencies[tag],\n",
    "        color=colors[i],\n",
    "        linewidth=2,\n",
    "        marker=\"o\",\n",
    "        markersize=5,\n",
    "    )\n",
    "    axes[i].set_title(tag, fontsize=16, fontweight=\"bold\")\n",
    "    axes[i].set_ylim(0, tag_frequencies[top_tags].max().max())\n",
    "    axes[i].set_xlabel(\"Year\", fontsize=14)\n",
    "    axes[i].set_ylabel(\"Frequency\", fontsize=14)\n",
    "    axes[i].grid(\n",
    "        True, linestyle=\"--\", alpha=0.7\n",
    "    )  # Add grid lines for better readability\n",
    "\n",
    "# Adjust layout and aesthetics\n",
    "plt.suptitle(\"Top 16 Tags Frequency Over Time\", fontsize=24, fontweight=\"bold\", y=1.02)\n",
    "plt.tight_layout()\n",
    "plt.subplots_adjust(top=0.9)  # Adjust the top to make room for the title\n",
    "output_plot_path = \"plots/top_16_tags_frequency_distribution_time.png\"\n",
    "plt.savefig(output_plot_path, bbox_inches=\"tight\")\n",
    "plt.show()"
   ]
  },
  {
   "cell_type": "code",
   "execution_count": null,
   "id": "3e199a4c",
   "metadata": {},
   "outputs": [],
   "source": [
    "plt.figure(figsize=(12, 8))\n",
    "sns.heatmap(tag_frequencies.T, cmap=\"YlOrRd\", cbar_kws={\"label\": \"Frequency\"})\n",
    "plt.title(\"Tag Frequencies Over Time\")\n",
    "plt.xlabel(\"Year\")\n",
    "plt.ylabel(\"Tags\")\n",
    "plt.tight_layout()\n",
    "output_plot_path = \"plots/tag_frequency_time.png\"\n",
    "plt.savefig(output_plot_path, bbox_inches=\"tight\")\n",
    "plt.show()"
   ]
  }
 ],
 "metadata": {
  "language_info": {
   "name": "python"
  }
 },
 "nbformat": 4,
 "nbformat_minor": 5
}
